{
 "cells": [
  {
   "cell_type": "markdown",
   "metadata": {},
   "source": [
    "# final version"
   ]
  },
  {
   "cell_type": "code",
   "execution_count": 1,
   "metadata": {},
   "outputs": [],
   "source": [
    "import pandas as pd\n",
    "import numpy as np\n",
    "import os \n",
    "import shutil \n",
    "import tkinter as tk\n",
    "from tkinter import filedialog\n",
    " \n",
    "\n",
    "win = tk.Tk()\n",
    "win.withdraw()\n",
    "win.attributes('-topmost', True)\n",
    "\n",
    "#ask user to select the location of CSV file containing information of image data set\n",
    "CsvFile= filedialog.askopenfile(title=\"select the csv file\")\n",
    "#load csv file \n",
    "s=pd.read_csv(CsvFile)\n",
    "#pd.set_option('display.max_rows', None)\n",
    " "
   ]
  },
  {
   "cell_type": "code",
   "execution_count": 15,
   "metadata": {},
   "outputs": [
    {
     "name": "stdout",
     "output_type": "stream",
     "text": [
      "Using matplotlib backend: Qt5Agg\n",
      "\n",
      "      (Minimum Valence,Minimum Arousal)  -->  (Maximum Valence,Maximum Arousal)\n",
      "\n",
      "                        (4.84, 2.45)     -->       (6.60, 5.67)\n",
      " Key pressed.\n",
      "\n",
      "      RectangleSelector deactivated.\n"
     ]
    }
   ],
   "source": [
    "from __future__ import print_function\n",
    "%matplotlib \n",
    "\"\"\"\n",
    "Do a mouseclick somewhere, move the mouse to some destination, release\n",
    "the button.  This class gives click- and release-events and also draws\n",
    "a line or a box from the click-point to the actual mouseposition\n",
    "(within the same axes) until the button is released.  Within the\n",
    "method 'self.ignore()' it is checked whether the button from eventpress\n",
    "and eventrelease are the same.\n",
    "\n",
    "\"\"\"\n",
    "\n",
    "from matplotlib.widgets import RectangleSelector\n",
    "import matplotlib.pyplot as plt\n",
    "lims={\"Valence_cutt_off_lower\":0,\n",
    "      \"Valence_cutt_off_upper\":0,\n",
    "      \"Arousal_cutt_off_lower\":0,\n",
    "      \"Arousal_cutt_off_upper\":0\n",
    "     }\n",
    "def line_select_callback(eclick, erelease):\n",
    "    'eclick and erelease are the press and release events'\n",
    "    x1, y1 = eclick.xdata, eclick.ydata\n",
    "    x2, y2 = erelease.xdata, erelease.ydata\n",
    "    lims[\"Valence_cutt_off_lower\"]=x1\n",
    "    lims[\"Valence_cutt_off_upper\"]=x2\n",
    "    lims[\"Arousal_cutt_off_lower\"]=y1\n",
    "    lims[\"Arousal_cutt_off_upper\"]=y2\n",
    "    \n",
    "    print(\"\\n                        (%3.2f, %3.2f)     -->       (%3.2f, %3.2f)\" % (x1, y1, x2, y2))\n",
    "    #print(\"\\n Please press Q button to accept the selected area \\n otherwise try again to select another interval for valence and arousal\")\n",
    "\n",
    "\n",
    "def toggle_selector(event):\n",
    "    print(' Key pressed.')\n",
    "    if event.key in ['Q', 'q'] and toggle_selector.RS.active:\n",
    "        print('\\n      RectangleSelector deactivated.')\n",
    "        toggle_selector.RS.set_active(False)\n",
    "        plt.close('all')\n",
    "    if event.key in ['A', 'a'] and not toggle_selector.RS.active:\n",
    "        print('\\n      RectangleSelector activated.')\n",
    "        toggle_selector.RS.set_active(True)\n",
    "\n",
    "\n",
    "fig,current_ax = plt.subplots(figsize=(12, 8))                 # make a new plotting range\n",
    "txt=\"\\n 1- Set a limit for data to be selected by drawing a box around it;\\n to do so, click at the maximum range and and release the mouse where it is supposed to define the minimum value       \\n 2- Press Q button to accept the selected area \\n otherwise try again to select another interval for valence and arousal\"\n",
    "plt.scatter(s['Valence_mean'], s['Arousal_mean'] ,s=20,facecolors='none', edgecolors='r')\n",
    "#plt.plot(s['Valence_mean'], s['Arousal_mean'], 'o', markersize=2,face edgecolors='r')\n",
    "plt.xlabel(r\"$Valence$\")\n",
    "plt.ylabel(r\"$Arousal$\")\n",
    "plt.xlim(1,7)\n",
    "plt.ylim(1,7)\n",
    "#plt.title(r'$title$')\n",
    "plt.text(1.2, 6.1, txt, style='italic',\n",
    "        bbox={'facecolor': 'yellow', 'alpha':.2, 'pad': 2})\n",
    "\n",
    "print(\"\\n      (Minimum Valence,Minimum Arousal)  -->  (Maximum Valence,Maximum Arousal)\")\n",
    "\n",
    "# drawtype is 'box' or 'line' or 'none'\n",
    "toggle_selector.RS = RectangleSelector(current_ax, line_select_callback,\n",
    "                                       drawtype='box', useblit=True,\n",
    "                                       button=[1, 3],  # don't use middle button\n",
    "                                       minspanx=5, minspany=5,\n",
    "                                       spancoords='pixels',\n",
    "                                       interactive=True)\n",
    "plt.connect('key_press_event', toggle_selector)\n",
    "#fig.set_size_inches(12, 8, forward=True)\n",
    "plt.show()\n",
    "\n"
   ]
  },
  {
   "cell_type": "code",
   "execution_count": 6,
   "metadata": {},
   "outputs": [],
   "source": [
    "neutral=s[(s['Arousal_mean']<lims[\"Arousal_cutt_off_upper\"])&(s['Arousal_mean']>lims[\"Arousal_cutt_off_lower\"])\n",
    "          &(s['Valence_mean']<lims[\"Valence_cutt_off_upper\"])&(s['Valence_mean']>lims[\"Valence_cutt_off_lower\"])]\n",
    "lil=(neutral['Theme'].values)\n",
    "#len(lil)"
   ]
  },
  {
   "cell_type": "code",
   "execution_count": 7,
   "metadata": {},
   "outputs": [],
   "source": [
    "import os \n",
    "import shutil \n",
    "import tkinter as tk\n",
    " \n",
    "\n",
    "root = tk.Tk()\n",
    "root.withdraw()\n",
    "root.attributes('-topmost', True)\n",
    "\n",
    "#filePath = filedialog.askopenfilename()\n",
    "OASISfolderPath = tk.filedialog.askdirectory(title=\"select the image data set\")\n",
    "\n",
    "\n",
    "destination = tk.filedialog.askdirectory(title='Where to store final images')\n",
    "from os import listdir\n",
    "names=pd.Series(listdir(OASISfolderPath))\n",
    "\n",
    "for filename in lil:\n",
    "    # with some images the name added to csv file is different (the difference is about some whitespaces) \n",
    "    imageFile = os.path.join(OASISfolderPath, filename+'.jpg')\n",
    "    if os.path. exists(imageFile):\n",
    "        shutil.copy(imageFile, destination)\n",
    "    else:\n",
    "        ds=(np.where(s['Theme']==filename))\n",
    "        filename=names[int(ds[0])+1]\n",
    "        imageFile= os.path.join(OASISfolderPath, filename)  \n",
    "        shutil.copy(imageFile, destination)"
   ]
  },
  {
   "cell_type": "code",
   "execution_count": 8,
   "metadata": {},
   "outputs": [],
   "source": [
    "from os.path import isfile\n",
    "mypathh=filedialog.askdirectory()\n",
    "hh=filedialog.askdirectory()\n",
    "j=1\n",
    "for i in listdir(mypathh):\n",
    "    os.rename((mypathh+r'/'+i),(hh+r'/n%s.jpg')%j)\n",
    "    j+=1"
   ]
  }
 ],
 "metadata": {
  "kernelspec": {
   "display_name": "Python 3",
   "language": "python",
   "name": "python3"
  },
  "language_info": {
   "codemirror_mode": {
    "name": "ipython",
    "version": 3
   },
   "file_extension": ".py",
   "mimetype": "text/x-python",
   "name": "python",
   "nbconvert_exporter": "python",
   "pygments_lexer": "ipython3",
   "version": "3.7.1"
  }
 },
 "nbformat": 4,
 "nbformat_minor": 2
}
