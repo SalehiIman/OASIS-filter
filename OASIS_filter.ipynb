{
 "cells": [
  {
   "cell_type": "markdown",
   "metadata": {},
   "source": [
    "# final version"
   ]
  },
  {
   "cell_type": "code",
   "execution_count": 148,
   "metadata": {},
   "outputs": [],
   "source": [
    "import pandas as pd\n",
    "import numpy as np\n",
    "import os \n",
    "import shutil \n",
    "import tkinter as tk\n",
    " \n",
    "\n",
    "win = tk.Tk()\n",
    "win.withdraw()\n",
    "win.attributes('-topmost', True)\n",
    "\n",
    "#ask user to select the location of CSV file containing information of image data set\n",
    "CsvFile= tk.filedialog.askopenfile(title=\"select the csv file\")\n",
    "#load csv file \n",
    "s=pd.read_csv(CsvFile)\n",
    "#pd.set_option('display.max_rows', None)\n",
    " "
   ]
  },
  {
   "cell_type": "code",
   "execution_count": 110,
   "metadata": {},
   "outputs": [
    {
     "data": {
      "text/plain": [
       "0"
      ]
     },
     "execution_count": 110,
     "metadata": {},
     "output_type": "execute_result"
    }
   ],
   "source": [
    "Valence_cutt_off_upper"
   ]
  },
  {
   "cell_type": "code",
   "execution_count": 151,
   "metadata": {},
   "outputs": [
    {
     "name": "stdout",
     "output_type": "stream",
     "text": [
      "Using matplotlib backend: Qt5Agg\n",
      "\n",
      "      (Minimum Valence,Minimum Arousal)  -->  (Maximum Valence,Maximum Arousal)\n",
      "\n",
      "                        (2.96, 1.92)     -->       (4.97, 2.90)\n",
      "\n",
      "                        (2.96, 1.92)     -->       (4.97, 2.90)\n",
      "\n",
      "                        (2.96, 1.92)     -->       (4.97, 2.90)\n",
      "\n",
      "                        (2.98, 1.90)     -->       (5.01, 2.93)\n",
      " Key pressed.\n",
      "\n",
      "      RectangleSelector deactivated.\n"
     ]
    }
   ],
   "source": [
    "from __future__ import print_function\n",
    "\"\"\"\n",
    "Do a mouseclick somewhere, move the mouse to some destination, release\n",
    "the button.  This class gives click- and release-events and also draws\n",
    "a line or a box from the click-point to the actual mouseposition\n",
    "(within the same axes) until the button is released.  Within the\n",
    "method 'self.ignore()' it is checked whether the button from eventpress\n",
    "and eventrelease are the same.\n",
    "\n",
    "\"\"\"\n",
    "from matplotlib.widgets import RectangleSelector\n",
    "import numpy as np\n",
    "import matplotlib.pyplot as plt\n",
    "%matplotlib \n",
    "lims={\"Valence_cutt_off_lower\":0,\n",
    "      \"Valence_cutt_off_upper\":0,\n",
    "      \"Arousal_cutt_off_lower\":0,\n",
    "      \"Arousal_cutt_off_upper\":0\n",
    "     }\n",
    "def line_select_callback(eclick, erelease):\n",
    "    'eclick and erelease are the press and release events'\n",
    "    x1, y1 = eclick.xdata, eclick.ydata\n",
    "    x2, y2 = erelease.xdata, erelease.ydata\n",
    "    lims[\"Valence_cutt_off_lower\"]=x1\n",
    "    lims[\"Valence_cutt_off_upper\"]=x2\n",
    "    lims[\"Arousal_cutt_off_lower\"]=y1\n",
    "    lims[\"Arousal_cutt_off_upper\"]=y2\n",
    "    \n",
    "    print(\"\\n                        (%3.2f, %3.2f)     -->       (%3.2f, %3.2f)\" % (x1, y1, x2, y2))\n",
    "    #print(\"\\n Please press Q button to accept the selected area \\n otherwise try again to select another interval for valence and arousal\")\n",
    "\n",
    "\n",
    "def toggle_selector(event):\n",
    "    print(' Key pressed.')\n",
    "    if event.key in ['Q', 'q'] and toggle_selector.RS.active:\n",
    "        print('\\n      RectangleSelector deactivated.')\n",
    "        toggle_selector.RS.set_active(False)\n",
    "        plt.close('all')\n",
    "    if event.key in ['A', 'a'] and not toggle_selector.RS.active:\n",
    "        print('\\n      RectangleSelector activated.')\n",
    "        toggle_selector.RS.set_active(True)\n",
    "\n",
    "\n",
    "fig, current_ax = plt.subplots()                 # make a new plotting range\n",
    "txt=\"\\n 1- Set a limit for data to be selected by drawing a box around it;\\n to do so, click at the maximum range and and release the mouse where it is supposed to define the minimum value       \\n 2- Press Q button to accept the selected area \\n otherwise try again to select another interval for valence and arousal\"\n",
    "plt.scatter(s['Valence_mean'], s['Arousal_mean'] ,s=20,facecolors='none', edgecolors='r')\n",
    "#plt.plot(s['Valence_mean'], s['Arousal_mean'], 'o', markersize=2,face edgecolors='r')\n",
    "plt.xlabel(r\"$Valence$\")\n",
    "plt.ylabel(r\"$Arousal$\")\n",
    "plt.xlim(1,7)\n",
    "plt.ylim(1,7)\n",
    "plt.title(r'$title$')\n",
    "#plt.text(3, 8, 'boxed italics text in data coords', )\n",
    "plt.text(1.2, 6.1, txt, style='italic',\n",
    "        bbox={'facecolor': 'yellow', 'alpha':.2, 'pad': 2})\n",
    "\n",
    "print(\"\\n      (Minimum Valence,Minimum Arousal)  -->  (Maximum Valence,Maximum Arousal)\")\n",
    "\n",
    "# drawtype is 'box' or 'line' or 'none'\n",
    "toggle_selector.RS = RectangleSelector(current_ax, line_select_callback,\n",
    "                                       drawtype='box', useblit=True,\n",
    "                                       button=[1, 3],  # don't use middle button\n",
    "                                       minspanx=5, minspany=5,\n",
    "                                       spancoords='pixels',\n",
    "                                       interactive=True)\n",
    "plt.connect('key_press_event', toggle_selector)\n",
    "fig.set_size_inches(12, 8, forward=True)\n",
    "plt.show()\n",
    "\n"
   ]
  },
  {
   "cell_type": "code",
   "execution_count": 152,
   "metadata": {},
   "outputs": [
    {
     "data": {
      "text/plain": [
       "136"
      ]
     },
     "execution_count": 152,
     "metadata": {},
     "output_type": "execute_result"
    }
   ],
   "source": [
    "neutral=s[(s['Arousal_mean']<lims[\"Arousal_cutt_off_upper\"])&(s['Arousal_mean']>lims[\"Arousal_cutt_off_lower\"])\n",
    "          &(s['Valence_mean']<lims[\"Valence_cutt_off_upper\"])&(s['Valence_mean']>lims[\"Valence_cutt_off_lower\"])]\n",
    "lil=list(neutral['Theme'].values)\n",
    "len(lil)"
   ]
  },
  {
   "cell_type": "code",
   "execution_count": 153,
   "metadata": {},
   "outputs": [],
   "source": [
    "import os \n",
    "import shutil \n",
    "import tkinter as tk\n",
    " \n",
    "\n",
    "root = tk.Tk()\n",
    "root.withdraw()\n",
    "root.attributes('-topmost', True)\n",
    "\n",
    "#filePath = filedialog.askopenfilename()\n",
    "folderPath = tk.filedialog.askdirectory(title=\"select the image data set\")\n",
    "\n",
    "\n",
    "destination = tk.filedialog.askdirectory(title='Where to store final images')\n",
    "\n",
    "# First, create a list and populate it with the files\n",
    "\n",
    "# you want to find (1 file per row in myfiles.txt)\n",
    "'''\n",
    "filesToFind = []\n",
    "with open(filePath, \"r\") as fh:\n",
    "    for row in fh:\n",
    "        filesToFind.append(row.strip())\n",
    "'''\n",
    "# Had an issue here but needed to define and then reference the filename variable itself for filename in os.listdir(folderPath):\n",
    "for filename in lil:\n",
    "    filename = os.path.join(folderPath, filename+'.jpg')\n",
    "    shutil.copy(filename, destination)\n"
   ]
  },
  {
   "cell_type": "code",
   "execution_count": 154,
   "metadata": {},
   "outputs": [],
   "source": [
    "from os import listdir\n",
    "from os.path import isfile\n",
    "mypathh=filedialog.askdirectory()\n",
    "hh=filedialog.askdirectory()\n",
    "j=1\n",
    "for i in listdir(mypathh):\n",
    "    os.rename((mypathh+r'/'+i),(hh+r'/n%s.jpg')%j)\n",
    "    j+=1"
   ]
  },
  {
   "cell_type": "code",
   "execution_count": null,
   "metadata": {},
   "outputs": [],
   "source": []
  }
 ],
 "metadata": {
  "kernelspec": {
   "display_name": "Python 3",
   "language": "python",
   "name": "python3"
  },
  "language_info": {
   "codemirror_mode": {
    "name": "ipython",
    "version": 3
   },
   "file_extension": ".py",
   "mimetype": "text/x-python",
   "name": "python",
   "nbconvert_exporter": "python",
   "pygments_lexer": "ipython3",
   "version": "3.7.1"
  }
 },
 "nbformat": 4,
 "nbformat_minor": 2
}
